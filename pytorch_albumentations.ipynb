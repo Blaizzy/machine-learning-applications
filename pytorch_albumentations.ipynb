{
  "nbformat": 4,
  "nbformat_minor": 0,
  "metadata": {
    "colab": {
      "name": "pytorch_albumentations.ipynb",
      "provenance": [],
      "collapsed_sections": [],
      "authorship_tag": "ABX9TyMOF3sfeopAzfBh00N6Xqg3",
      "include_colab_link": true
    },
    "kernelspec": {
      "name": "python3",
      "display_name": "Python 3"
    },
    "language_info": {
      "name": "python"
    }
  },
  "cells": [
    {
      "cell_type": "markdown",
      "metadata": {
        "id": "view-in-github",
        "colab_type": "text"
      },
      "source": [
        "<a href=\"https://colab.research.google.com/github/jarek-pawlowski/machine-learning-applications/blob/main/pytorch_albumentations.ipynb\" target=\"_parent\"><img src=\"https://colab.research.google.com/assets/colab-badge.svg\" alt=\"Open In Colab\"/></a>"
      ]
    },
    {
      "cell_type": "code",
      "source": [
        "import os\n",
        "from torch.utils.data import DataLoader, Dataset\n",
        "from torchvision import datasets, transforms\n",
        "import cv2\n",
        "\n",
        "import albumentations as A\n",
        "from albumentations.pytorch import ToTensor\n",
        "\n",
        "import matplotlib.pyplot as plt\n",
        "plt.rcParams.update({'font.size': 14})"
      ],
      "metadata": {
        "id": "Wxcmnn5DtbXW"
      },
      "execution_count": 39,
      "outputs": []
    },
    {
      "cell_type": "markdown",
      "source": [
        "Dowload a dataset using *torchvision* and create dataloader. "
      ],
      "metadata": {
        "id": "o6nEVxn3F6rj"
      }
    },
    {
      "cell_type": "code",
      "execution_count": 13,
      "metadata": {
        "id": "DvAtke9psFqj"
      },
      "outputs": [],
      "source": [
        "transform = transforms.ToTensor()\n",
        "train_subset = datasets.MNIST('../data', train=True, download=True, transform=transform)\n",
        "loader_kwargs = {'batch_size': 1, \n",
        "                 'num_workers': 2, \n",
        "                 'pin_memory': True, \n",
        "                 'shuffle': True}\n",
        "train_loader = DataLoader(train_subset)"
      ]
    },
    {
      "cell_type": "markdown",
      "source": [
        "Load images from the dataset and save as separate images."
      ],
      "metadata": {
        "id": "M0UmRP9pGNnz"
      }
    },
    {
      "cell_type": "code",
      "source": [
        "dataset_directory = os.path.join('./', \"dataset\")\n",
        "os.makedirs(dataset_directory, exist_ok=True)\n",
        "images_filepaths = []\n",
        "images_labels = []\n",
        "for i, (image, label) in enumerate(train_loader):\n",
        "    filepath = os.path.join(dataset_directory, str(i)+\".png\")\n",
        "    cv2.imwrite(filepath, image.numpy()[0,0]) \n",
        "    images_filepaths.append(filepath)\n",
        "    images_labels.append(label.item())"
      ],
      "metadata": {
        "id": "jfqMzzl7uJuh"
      },
      "execution_count": 47,
      "outputs": []
    },
    {
      "cell_type": "markdown",
      "source": [
        "Now define dataset with some *albumentations*."
      ],
      "metadata": {
        "id": "y-3OeaIy8aX8"
      }
    },
    {
      "cell_type": "code",
      "source": [
        "class AlbumentationsDataset(Dataset):\n",
        "    \"\"\"__init__ and __len__ functions are the same as in TorchvisionDataset\"\"\"\n",
        "    def __init__(self, file_paths, labels, transform=None):\n",
        "        self.file_paths = file_paths\n",
        "        self.labels = labels\n",
        "        self.transform = transform\n",
        "        \n",
        "    def __len__(self):\n",
        "        return len(self.file_paths)\n",
        "\n",
        "    def __getitem__(self, idx):\n",
        "        label = self.labels[idx]\n",
        "        file_path = self.file_paths[idx]\n",
        "        \n",
        "        # Read an image with OpenCV\n",
        "        image = cv2.imread(file_path, cv2.IMREAD_GRAYSCALE)\n",
        "        if self.transform:\n",
        "            augmented = self.transform(image=image)\n",
        "            image = augmented['image']\n",
        "        return image, label\n",
        "\n",
        "\n",
        "albumentations_transform = A.Compose([\n",
        "    A.VerticalFlip(),\n",
        "    A.HorizontalFlip()\n",
        "])\n",
        "\n",
        "albumentations_dataset = AlbumentationsDataset(\n",
        "    file_paths=images_filepaths,\n",
        "    labels=images_labels,\n",
        "    transform=albumentations_transform,\n",
        ")"
      ],
      "metadata": {
        "id": "HRCOgF6d8LMY"
      },
      "execution_count": 51,
      "outputs": []
    },
    {
      "cell_type": "markdown",
      "source": [
        "Plot sample images after augmentation"
      ],
      "metadata": {
        "id": "3WXiOcsDLa4M"
      }
    },
    {
      "cell_type": "code",
      "source": [
        "example_number = 123\n",
        "fig, axs = plt.subplots(5, 5, figsize=(7,7), tight_layout=True)\n",
        "for i in range(5):\n",
        "    for j in range(5):\n",
        "        axs[i,j].imshow(albumentations_dataset[example_number+i*5+j][0].reshape(28,28), cmap='gray')\n",
        "        axs[i,j].set_title(albumentations_dataset[example_number+i*5+j][1])"
      ],
      "metadata": {
        "colab": {
          "base_uri": "https://localhost:8080/",
          "height": 505
        },
        "id": "-1KU6HfCG5y3",
        "outputId": "de592e3d-f940-4bb0-dcfd-bf1f0ea5bfe0"
      },
      "execution_count": 52,
      "outputs": [
        {
          "output_type": "display_data",
          "data": {
            "text/plain": [
              "<Figure size 504x504 with 25 Axes>"
            ],
            "image/png": "[encoded data removed]"
          },
          "metadata": {
            "needs_background": "light"
          }
        }
      ]
    },
    {
      "cell_type": "markdown",
      "source": [
        "Note that the default transformation probability is 0.5"
      ],
      "metadata": {
        "id": "QAhmyv56LVgf"
      }
    }
  ]
}